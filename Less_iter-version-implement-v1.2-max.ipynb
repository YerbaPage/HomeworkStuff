{
 "cells": [
  {
   "cell_type": "markdown",
   "metadata": {},
   "source": [
    "# Codes"
   ]
  },
  {
   "cell_type": "code",
   "execution_count": 51,
   "metadata": {},
   "outputs": [],
   "source": [
    "import numpy as np\n",
    "\n",
    "class Simplex(object):\n",
    "    def __init__(self, obj, b_matrix=[], maxloop=1000, max_mode=False):\n",
    "        self.mat, self.max_mode = np.array(\n",
    "            [[0] + obj]) * (-1 if max_mode else 1), max_mode\n",
    "        if b_matrix != []:\n",
    "            self.mat = np.vstack([self.mat, b_matrix])\n",
    "        self.count = 0\n",
    "        self.maxloop = maxloop\n",
    "\n",
    "    def _pivot(self, mat, B, row, col):\n",
    "        mat[row] /= mat[row][col]\n",
    "        ids = np.arange(mat.shape[0]) != row\n",
    "        # for each i!= row do: mat[i]= mat[i] - mat[row] * mat[i][col]\n",
    "        mat[ids] -= mat[row] * mat[ids, col:col + 1]\n",
    "        B[row] = col\n",
    "        self.count += 1\n",
    "        # print(self.count)\n",
    "\n",
    "    def _simplex(self, mat, B, m, n):\n",
    "        while mat[0, 1:].min() < 0 and self.count < self.maxloop:\n",
    "            # use Bland's method to avoid degeneracy\n",
    "            # col = np.where(mat[0, 1:] < 0)[0][0] + 1\n",
    "            # use Dantzig's method, may encounter degeneracy\n",
    "            delta = []\n",
    "            for col in (np.where(mat[0, 1:] < 0)[0] + 1):\n",
    "                row = np.array([mat[i][0] / mat[i][col] if mat[i][col] > 0 else 0x7fffffff for i in \n",
    "                                range(1, mat.shape[0])]).argmax() + 1\n",
    "                delta.append(-mat[0][col]/mat[row][col]*mat[row][0])\n",
    "                \n",
    "            col = (np.where(mat[0, 1:] < 0)[0] + 1)[np.array(delta).argmin()]\n",
    "            row = np.array([mat[i][0] / mat[i][col] if mat[i][col] > 0 else 0x7fffffff for i in \n",
    "                range(1, mat.shape[0])]).argmin() + 1\n",
    "            if mat[row][col] <= 0:\n",
    "                return None  # the theta is ∞, the problem is unbounded\n",
    "            self._pivot(mat, B, row, col)\n",
    "        print('loop:', self.count)\n",
    "        return mat[0][0] * (1 if self.max_mode else -1), {B[i]: mat[i, 0] for i in range(1, m) if B[i] < n}\n",
    "\n",
    "    def solve(self):\n",
    "        m, n = self.mat.shape  # m - 1 is the number slack variables we should add\n",
    "        temp, B = np.vstack([np.zeros((1, m - 1)), np.eye(m - 1)]\n",
    "                            ), list(range(n - 1, n + m - 1))  # add diagonal array\n",
    "        mat = self.mat = np.hstack([self.mat, temp])  # combine them!\n",
    "        if mat[1:, 0].min() < 0:  # is the initial basic solution feasible?\n",
    "            row = mat[1:, 0].argmin() + 1  # find the index of min b\n",
    "            # set first row value to zero, and store the previous value\n",
    "            temp, mat[0] = np.copy(mat[0]), 0\n",
    "            mat = np.hstack(\n",
    "                [mat, np.array([1] + [-1] * (m - 1)).reshape((-1, 1))])\n",
    "            self._pivot(mat, B, row, mat.shape[1] - 1)\n",
    "            if self._simplex(mat, B, m, n)[0] != 0:\n",
    "                return None  # the problem has no answer\n",
    "            if mat.shape[1] - 1 in B:  # if the x0 in B, we should pivot it.\n",
    "                self._pivot(mat, B, B.index(\n",
    "                    mat.shape[1] - 1), np.where(mat[0, 1:] != 0)[0][0] + 1)\n",
    "            # recover the first line\n",
    "            self.mat = np.vstack([temp, mat[1:, :-1]])\n",
    "            for i, x in enumerate(B[1:]):\n",
    "                self.mat[0] -= self.mat[0, x] * self.mat[i + 1]\n",
    "        return self._simplex(self.mat, B, m, n)"
   ]
  },
  {
   "cell_type": "markdown",
   "metadata": {},
   "source": [
    "# Test: easy"
   ]
  },
  {
   "cell_type": "code",
   "execution_count": 52,
   "metadata": {},
   "outputs": [
    {
     "name": "stdout",
     "output_type": "stream",
     "text": [
      "loop: 2\n",
      "(-2.0, {2: 0.6666666666666666, 1: 0.6666666666666667})\n",
      "[[ 2.          0.          0.          1.          0.        ]\n",
      " [ 0.66666667  0.          1.          0.66666667 -0.33333333]\n",
      " [ 0.66666667  1.          0.         -0.33333333  0.66666667]]\n"
     ]
    }
   ],
   "source": [
    "mt_b = [[2,1,2],[2,2,1]]\n",
    "t = Simplex([-1, -2], mt_b)\n",
    "print(t.solve())\n",
    "print(t.mat)"
   ]
  },
  {
   "cell_type": "markdown",
   "metadata": {},
   "source": [
    "# Test: harder"
   ]
  },
  {
   "cell_type": "code",
   "execution_count": 53,
   "metadata": {},
   "outputs": [
    {
     "name": "stdout",
     "output_type": "stream",
     "text": [
      "loop: 3\n",
      "(-1350.0, {3: 30.0, 1: 400.0})\n",
      "[[ 1.35e+03  0.00e+00  0.00e+00  0.00e+00  1.00e+00  2.00e+00  0.00e+00]\n",
      " [ 3.00e+01  0.00e+00 -2.00e+00  1.00e+00 -1.00e+00  1.00e+00  0.00e+00]\n",
      " [ 2.00e+01  0.00e+00  0.00e+00  0.00e+00 -2.00e+00  1.00e+00  1.00e+00]\n",
      " [ 4.00e+02  1.00e+00  4.00e+00  0.00e+00  2.00e+00 -1.00e+00  0.00e+00]]\n"
     ]
    },
    {
     "name": "stderr",
     "output_type": "stream",
     "text": [
      "C:\\Users\\ASUS\\Anaconda3\\lib\\site-packages\\ipykernel_launcher.py:30: RuntimeWarning: divide by zero encountered in double_scalars\n"
     ]
    }
   ],
   "source": [
    "data = np.loadtxt(\"data_b.txt\", dtype=int)\n",
    "Z = list(data[0][1:])\n",
    "b = list(data[1:])\n",
    "test = Simplex(Z, b)\n",
    "print(test.solve())\n",
    "print(test.mat)"
   ]
  },
  {
   "cell_type": "code",
   "execution_count": 54,
   "metadata": {
    "scrolled": true
   },
   "outputs": [
    {
     "name": "stdout",
     "output_type": "stream",
     "text": [
      "[[  0  -3  -2  -5]\n",
      " [430   1   2   1]\n",
      " [460   1   0   2]\n",
      " [420   1   4   0]]\n"
     ]
    },
    {
     "data": {
      "text/plain": [
       "1"
      ]
     },
     "execution_count": 54,
     "metadata": {},
     "output_type": "execute_result"
    }
   ],
   "source": [
    "data = np.loadtxt(\"data_b.txt\", dtype=int)\n",
    "Z = list(data[0][1:])\n",
    "b = list(data[1:])\n",
    "test = Simplex(Z, b)\n",
    "mat = test.mat\n",
    "# np.where(mat[0, 1:] < 0)[0][0] + 1\n",
    "print(mat)\n",
    "np.where(mat[0, 1:] < 0)[0][0]+1"
   ]
  },
  {
   "cell_type": "markdown",
   "metadata": {},
   "source": [
    "# Accelerating"
   ]
  },
  {
   "cell_type": "code",
   "execution_count": 57,
   "metadata": {},
   "outputs": [
    {
     "name": "stdout",
     "output_type": "stream",
     "text": [
      "1 3 [1260.0, 210.0, 1150.0]\n"
     ]
    }
   ],
   "source": [
    "# minus_list = np.where(mat[0, 1:] < 0)[0] + 1\n",
    "delta = []\n",
    "for col in (np.where(mat[0, 1:] < 0)[0] + 1):\n",
    "    row = np.array([mat[i][0] / mat[i][col] if mat[i][col] > 0 else 0x7fffffff for i in \n",
    "                range(1, mat.shape[0])]).argmin() + 1\n",
    "    delta.append(-mat[0][col]/mat[row][col]*mat[row][0])\n",
    "\n",
    "col = (np.where(mat[0, 1:] < 0)[0] + 1)[np.array(delta).argmax()]\n",
    "row = np.array([mat[i][0] / mat[i][col] if mat[i][col] > 0 else 0x7fffffff for i in \n",
    "                range(1, mat.shape[0])]).argmin() + 1\n",
    "print(col, row, delta)"
   ]
  },
  {
   "cell_type": "code",
   "execution_count": null,
   "metadata": {},
   "outputs": [],
   "source": []
  }
 ],
 "metadata": {
  "kernelspec": {
   "display_name": "Python 3",
   "language": "python",
   "name": "python3"
  },
  "language_info": {
   "codemirror_mode": {
    "name": "ipython",
    "version": 3
   },
   "file_extension": ".py",
   "mimetype": "text/x-python",
   "name": "python",
   "nbconvert_exporter": "python",
   "pygments_lexer": "ipython3",
   "version": "3.7.4"
  },
  "varInspector": {
   "cols": {
    "lenName": 16,
    "lenType": 16,
    "lenVar": 40
   },
   "kernels_config": {
    "python": {
     "delete_cmd_postfix": "",
     "delete_cmd_prefix": "del ",
     "library": "var_list.py",
     "varRefreshCmd": "print(var_dic_list())"
    },
    "r": {
     "delete_cmd_postfix": ") ",
     "delete_cmd_prefix": "rm(",
     "library": "var_list.r",
     "varRefreshCmd": "cat(var_dic_list()) "
    }
   },
   "position": {
    "height": "378px",
    "left": "780px",
    "right": "20px",
    "top": "120px",
    "width": "350px"
   },
   "types_to_exclude": [
    "module",
    "function",
    "builtin_function_or_method",
    "instance",
    "_Feature"
   ],
   "window_display": false
  }
 },
 "nbformat": 4,
 "nbformat_minor": 2
}
