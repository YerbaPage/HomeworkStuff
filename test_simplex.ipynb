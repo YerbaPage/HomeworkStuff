{
 "cells": [
  {
   "cell_type": "code",
   "execution_count": 23,
   "metadata": {},
   "outputs": [],
   "source": [
    "import time\n",
    "import numpy as np\n",
    "\n",
    "def printSol():\n",
    "    for i in range(cn - 1):\n",
    "        print(\"x%d=%.2f\" % (i, d[s.index(i)][-1] if i in s else 0))\n",
    "    print(\"objective is %.2f\" % (-d[-1][-1]))\n",
    "    print(\"loop: \",loop)"
   ]
  },
  {
   "cell_type": "code",
   "execution_count": null,
   "metadata": {},
   "outputs": [],
   "source": [
    "%%time\n",
    "d = np.loadtxt(\"data.txt\", dtype=np.float)\n",
    "(bn,cn) = d.shape\n",
    "s = list(range(cn-bn,cn-1)) #基变量列表\n",
    "loop = 0\n",
    "while max(d[-1][:-1]) > 0:\n",
    "    loop += 1\n",
    "    jnum = np.argmax(d[-1][:-1])  # 转入下标\n",
    "    inum = np.argmin(d[:-1, -1]/d[:-1, jnum])  # 转出下标\n",
    "    s[inum] = jnum  # 更新基变量\n",
    "    d[inum] /= d[inum][jnum]\n",
    "    for i in range(bn):\n",
    "         if i != inum:\n",
    "            d[i] -= d[i][jnum] * d[inum]\n",
    "printSol()"
   ]
  },
  {
   "cell_type": "code",
   "execution_count": null,
   "metadata": {},
   "outputs": [],
   "source": []
  }
 ],
 "metadata": {
  "kernelspec": {
   "display_name": "Python 3",
   "language": "python",
   "name": "python3"
  },
  "language_info": {
   "codemirror_mode": {
    "name": "ipython",
    "version": 3
   },
   "file_extension": ".py",
   "mimetype": "text/x-python",
   "name": "python",
   "nbconvert_exporter": "python",
   "pygments_lexer": "ipython3",
   "version": "3.7.4"
  },
  "varInspector": {
   "cols": {
    "lenName": 16,
    "lenType": 16,
    "lenVar": 40
   },
   "kernels_config": {
    "python": {
     "delete_cmd_postfix": "",
     "delete_cmd_prefix": "del ",
     "library": "var_list.py",
     "varRefreshCmd": "print(var_dic_list())"
    },
    "r": {
     "delete_cmd_postfix": ") ",
     "delete_cmd_prefix": "rm(",
     "library": "var_list.r",
     "varRefreshCmd": "cat(var_dic_list()) "
    }
   },
   "types_to_exclude": [
    "module",
    "function",
    "builtin_function_or_method",
    "instance",
    "_Feature"
   ],
   "window_display": false
  }
 },
 "nbformat": 4,
 "nbformat_minor": 2
}
