{
 "cells": [
  {
   "cell_type": "code",
   "execution_count": 4,
   "metadata": {},
   "outputs": [],
   "source": [
    "import numpy as np\n",
    "# import os\n",
    "data= np.loadtxt(\"data.txt\", dtype=np.float) #全局变量用来存储矩阵\n",
    " \n",
    "def pivot():\n",
    "    global data\n",
    " \n",
    "    # data= np.array(data)\n",
    "    t = np.array(data[0][:-1]) #将第一行数据拿出来（第一行是　min 目标函数）\n",
    "    jump = t.argmin() #找到相对成本为负值的，relative cost coefficients\n",
    "    data = np.array(data)\n",
    "    m = []\n",
    "    print(data.shape)\n",
    "    countd = False\n",
    "    for i in range(data.shape[0]): #找到基元\n",
    "        if i == 0:\n",
    "            m.append(10000.0) #这个里表示无限大\n",
    "        else:\n",
    "            if data[i][jump] <= 0:\n",
    "                m.append(10000.0)\n",
    "            else:\n",
    "                print(data[i][-1]/data[i][jump])\n",
    "                m.append(data[i][-1]/data[i][jump])\n",
    "    if countd == False:\n",
    "        print(\"no solution\")\n",
    "        return\n",
    "    based = m.index(min([x for x in m if x!=0]))\n",
    "    for g in range(data.shape[0]): #将ｊｕｍｐ列,based 外，S都变成０，高斯消元法\n",
    "        c = data[g][jump] / data[based][jump]\n",
    "        if g != based:\n",
    "            for j in range(data.shape[1]):\n",
    "                if j == jump:\n",
    "                    data[g][j] = 0.0\n",
    "                else:\n",
    "                    data[g][j] = data[g][j] - c*data[based][j]\n",
    "                \n",
    "    print(data)\n",
    "    # return d\n",
    " \n",
    " \n",
    "def solve():\n",
    "    count = 0 # 使无解不无限循环\n",
    "    flag = True\n",
    "    global data\n",
    "    # d= data\n",
    "    while flag:#判断还能不能再优化\n",
    "        if min(list(data[0][:-1])) >= 0:\n",
    "            flag = False\n",
    "        else:\n",
    "            # d = np.array(d)\n",
    "            pivot()\n",
    "        if count > 1000:\n",
    "            print(\"solve the question failed \")\n",
    "            break\n",
    "        count = count + 1\n",
    "    print (\"solution is %f\" %data[0][-1])\n",
    " \n",
    " \n",
    "def main():\n",
    "    d = raw_input('please input object function, form is :  1 ,3, 4, 0 :')\n",
    "    formdata = map(float, d.split(','))\n",
    "    num = input('please input number of limit inequation :')\n",
    "    for i in range(num):\n",
    "        pridata = raw_input('please input %d  function, form is :  1 ,3, 4, 0 :' %i)\n",
    "        adddata = map(float, pridata.split(','))\n",
    "        formdata = np.vstack((formdata, adddata))\n",
    "    # print  formdata\n",
    "    global data\n",
    "    data = formdata\n",
    "    # print data[2][-1]\n",
    "    # print data[2][1]\n",
    "    # print data[2][-1]/data[2][1]\n",
    "    print(data)\n",
    "    solve()\n"
   ]
  },
  {
   "cell_type": "code",
   "execution_count": 5,
   "metadata": {},
   "outputs": [
    {
     "ename": "NameError",
     "evalue": "name 'raw_input' is not defined",
     "output_type": "error",
     "traceback": [
      "\u001b[1;31m---------------------------------------------------------------------------\u001b[0m",
      "\u001b[1;31mNameError\u001b[0m                                 Traceback (most recent call last)",
      "\u001b[1;32m<ipython-input-5-263240bbee7e>\u001b[0m in \u001b[0;36m<module>\u001b[1;34m\u001b[0m\n\u001b[1;32m----> 1\u001b[1;33m \u001b[0mmain\u001b[0m\u001b[1;33m(\u001b[0m\u001b[1;33m)\u001b[0m\u001b[1;33m\u001b[0m\u001b[1;33m\u001b[0m\u001b[0m\n\u001b[0m",
      "\u001b[1;32m<ipython-input-4-988189a7598b>\u001b[0m in \u001b[0;36mmain\u001b[1;34m()\u001b[0m\n\u001b[0;32m     58\u001b[0m \u001b[1;33m\u001b[0m\u001b[0m\n\u001b[0;32m     59\u001b[0m \u001b[1;32mdef\u001b[0m \u001b[0mmain\u001b[0m\u001b[1;33m(\u001b[0m\u001b[1;33m)\u001b[0m\u001b[1;33m:\u001b[0m\u001b[1;33m\u001b[0m\u001b[1;33m\u001b[0m\u001b[0m\n\u001b[1;32m---> 60\u001b[1;33m     \u001b[0md\u001b[0m \u001b[1;33m=\u001b[0m \u001b[0mraw_input\u001b[0m\u001b[1;33m(\u001b[0m\u001b[1;34m'please input object function, form is :  1 ,3, 4, 0 :'\u001b[0m\u001b[1;33m)\u001b[0m\u001b[1;33m\u001b[0m\u001b[1;33m\u001b[0m\u001b[0m\n\u001b[0m\u001b[0;32m     61\u001b[0m     \u001b[0mformdata\u001b[0m \u001b[1;33m=\u001b[0m \u001b[0mmap\u001b[0m\u001b[1;33m(\u001b[0m\u001b[0mfloat\u001b[0m\u001b[1;33m,\u001b[0m \u001b[0md\u001b[0m\u001b[1;33m.\u001b[0m\u001b[0msplit\u001b[0m\u001b[1;33m(\u001b[0m\u001b[1;34m','\u001b[0m\u001b[1;33m)\u001b[0m\u001b[1;33m)\u001b[0m\u001b[1;33m\u001b[0m\u001b[1;33m\u001b[0m\u001b[0m\n\u001b[0;32m     62\u001b[0m     \u001b[0mnum\u001b[0m \u001b[1;33m=\u001b[0m \u001b[0minput\u001b[0m\u001b[1;33m(\u001b[0m\u001b[1;34m'please input number of limit inequation :'\u001b[0m\u001b[1;33m)\u001b[0m\u001b[1;33m\u001b[0m\u001b[1;33m\u001b[0m\u001b[0m\n",
      "\u001b[1;31mNameError\u001b[0m: name 'raw_input' is not defined"
     ]
    }
   ],
   "source": [
    "main()"
   ]
  },
  {
   "cell_type": "code",
   "execution_count": null,
   "metadata": {},
   "outputs": [],
   "source": []
  }
 ],
 "metadata": {
  "kernelspec": {
   "display_name": "Python 3",
   "language": "python",
   "name": "python3"
  },
  "language_info": {
   "codemirror_mode": {
    "name": "ipython",
    "version": 3
   },
   "file_extension": ".py",
   "mimetype": "text/x-python",
   "name": "python",
   "nbconvert_exporter": "python",
   "pygments_lexer": "ipython3",
   "version": "3.7.4"
  },
  "varInspector": {
   "cols": {
    "lenName": 16,
    "lenType": 16,
    "lenVar": 40
   },
   "kernels_config": {
    "python": {
     "delete_cmd_postfix": "",
     "delete_cmd_prefix": "del ",
     "library": "var_list.py",
     "varRefreshCmd": "print(var_dic_list())"
    },
    "r": {
     "delete_cmd_postfix": ") ",
     "delete_cmd_prefix": "rm(",
     "library": "var_list.r",
     "varRefreshCmd": "cat(var_dic_list()) "
    }
   },
   "types_to_exclude": [
    "module",
    "function",
    "builtin_function_or_method",
    "instance",
    "_Feature"
   ],
   "window_display": false
  }
 },
 "nbformat": 4,
 "nbformat_minor": 2
}
