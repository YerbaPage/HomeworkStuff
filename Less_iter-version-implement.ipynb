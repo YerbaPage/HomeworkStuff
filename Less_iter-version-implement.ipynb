{
 "cells": [
  {
   "cell_type": "code",
   "execution_count": 9,
   "metadata": {},
   "outputs": [],
   "source": [
    "import numpy as np\n",
    "\n",
    "class Simplex(object):\n",
    "    def __init__(self, obj, b_matrix = [], max_mode=False):\n",
    "        self.mat, self.max_mode = np.array([[0] + obj]) * (-1 if max_mode else 1), max_mode\n",
    "        if b_matrix != []:\n",
    "            self.mat = np.vstack([self.mat, b_matrix])\n",
    "        \n",
    "    def _simplex(self, mat, B, m, n):\n",
    "        while mat[0, 1:].min() < 0:\n",
    "            col = np.where(mat[0, 1:] < 0)[0][0] + 1  # use Bland's method to avoid degeneracy. use mat[0].argmin() ok?\n",
    "            row = np.array([mat[i][0] / mat[i][col] if mat[i][col] > 0 else 0x7fffffff for i in\n",
    "                            range(1, mat.shape[0])]).argmin() + 1  # find the theta index\n",
    "            if mat[row][col] <= 0: return None  # the theta is ∞, the problem is unbounded\n",
    "            self._pivot(mat, B, row, col)\n",
    "        return mat[0][0] * (1 if self.max_mode else -1), {B[i]: mat[i, 0] for i in range(1, m) if B[i] < n}\n",
    " \n",
    "    def _pivot(self, mat, B, row, col):\n",
    "        mat[row] /= mat[row][col]\n",
    "        ids = np.arange(mat.shape[0]) != row\n",
    "        mat[ids] -= mat[row] * mat[ids, col:col + 1]  # for each i!= row do: mat[i]= mat[i] - mat[row] * mat[i][col]\n",
    "        B[row] = col\n",
    " \n",
    "    def solve(self):\n",
    "        m, n = self.mat.shape  # m - 1 is the number slack variables we should add\n",
    "        temp, B = np.vstack([np.zeros((1, m - 1)), np.eye(m - 1)]), list(range(n - 1, n + m - 1))  # add diagonal array\n",
    "        mat = self.mat = np.hstack([self.mat, temp])  # combine them!\n",
    "        if mat[1:, 0].min() < 0:  # is the initial basic solution feasible?\n",
    "            row = mat[1:, 0].argmin() + 1  # find the index of min b\n",
    "            temp, mat[0] = np.copy(mat[0]), 0  # set first row value to zero, and store the previous value\n",
    "            mat = np.hstack([mat, np.array([1] + [-1] * (m - 1)).reshape((-1, 1))])\n",
    "            self._pivot(mat, B, row, mat.shape[1] - 1)\n",
    "            if self._simplex(mat, B, m, n)[0] != 0:\n",
    "                return None  # the problem has no answer\n",
    "            if mat.shape[1] - 1 in B:  # if the x0 in B, we should pivot it.\n",
    "                self._pivot(mat, B, B.index(mat.shape[1] - 1), np.where(mat[0, 1:] != 0)[0][0] + 1)\n",
    "            self.mat = np.vstack([temp, mat[1:, :-1]])  # recover the first line\n",
    "            for i, x in enumerate(B[1:]):\n",
    "                self.mat[0] -= self.mat[0, x] * self.mat[i + 1]\n",
    "        return self._simplex(self.mat, B, m, n)"
   ]
  },
  {
   "cell_type": "code",
   "execution_count": 12,
   "metadata": {
    "scrolled": false
   },
   "outputs": [
    {
     "name": "stdout",
     "output_type": "stream",
     "text": [
      "(2.4, {2: 1.2, 1: 0.6000000000000001})\n",
      "[[-2.4  0.   0.   0.4  0.2  0. ]\n",
      " [ 1.2  0.   1.   0.8 -0.6  0. ]\n",
      " [ 0.6  1.   0.  -0.6  0.2 -0. ]\n",
      " [ 0.   0.   0.  -1.   1.   1. ]]\n"
     ]
    }
   ],
   "source": [
    "data = np.loadtxt(\"data_b.txt\", dtype=int)\n",
    "Z = list(data[0][1:])\n",
    "b = list(data[1:])\n",
    "test = Simplex(Z, b)\n",
    "print(test.solve())\n",
    "print(test.mat)"
   ]
  },
  {
   "cell_type": "code",
   "execution_count": null,
   "metadata": {},
   "outputs": [],
   "source": []
  }
 ],
 "metadata": {
  "kernelspec": {
   "display_name": "Python 3",
   "language": "python",
   "name": "python3"
  },
  "language_info": {
   "codemirror_mode": {
    "name": "ipython",
    "version": 3
   },
   "file_extension": ".py",
   "mimetype": "text/x-python",
   "name": "python",
   "nbconvert_exporter": "python",
   "pygments_lexer": "ipython3",
   "version": "3.7.4"
  },
  "varInspector": {
   "cols": {
    "lenName": 16,
    "lenType": 16,
    "lenVar": 40
   },
   "kernels_config": {
    "python": {
     "delete_cmd_postfix": "",
     "delete_cmd_prefix": "del ",
     "library": "var_list.py",
     "varRefreshCmd": "print(var_dic_list())"
    },
    "r": {
     "delete_cmd_postfix": ") ",
     "delete_cmd_prefix": "rm(",
     "library": "var_list.r",
     "varRefreshCmd": "cat(var_dic_list()) "
    }
   },
   "types_to_exclude": [
    "module",
    "function",
    "builtin_function_or_method",
    "instance",
    "_Feature"
   ],
   "window_display": false
  }
 },
 "nbformat": 4,
 "nbformat_minor": 2
}
