{
 "cells": [
  {
   "cell_type": "markdown",
   "metadata": {},
   "source": [
    "# Codes"
   ]
  },
  {
   "cell_type": "code",
   "execution_count": 8,
   "metadata": {
    "code_folding": [
     4,
     14,
     23,
     24,
     47
    ]
   },
   "outputs": [],
   "source": [
    "import numpy as np\n",
    "import matplotlib.pyplot as plt\n",
    "\n",
    "class Simplex(object):\n",
    "    def __init__(self, obj, b_matrix=[], method='greedy', maxloop=2000, max_mode=False):\n",
    "        self.mat, self.max_mode = np.array(\n",
    "            [[0] + obj]) * (-1 if max_mode else 1), max_mode\n",
    "        if b_matrix != []:\n",
    "            self.mat = np.vstack([self.mat, b_matrix])\n",
    "        self.count = 0\n",
    "        self.maxloop = maxloop\n",
    "        self.log = []\n",
    "        self.method = method\n",
    "\n",
    "    def _pivot(self, mat, B, row, col):\n",
    "        mat[row] /= mat[row][col]\n",
    "        ids = np.arange(mat.shape[0]) != row\n",
    "        # for each i!= row do: mat[i]= mat[i] - mat[row] * mat[i][col]\n",
    "        mat[ids] -= mat[row] * mat[ids, col:col + 1]\n",
    "        B[row] = col\n",
    "        self.count += 1\n",
    "        self.log.append(mat[0][0])\n",
    "\n",
    "    def _simplex(self, mat, B, m, n):\n",
    "        while mat[0, 1:].min() < 0 and self.count < self.maxloop:\n",
    "            if self.method == \"greedy\":\n",
    "                delta = []\n",
    "                for col in (np.where(mat[0, 1:] < 0)[0] + 1):\n",
    "                    row = np.array([mat[i][0] / mat[i][col] if mat[i][col] > 0 else 0x7fffffff for i in \n",
    "                                    range(1, mat.shape[0])]).argmax() + 1\n",
    "                    delta.append(-mat[0][col]/mat[row][col]*mat[row][0])\n",
    "            \n",
    "                col = (np.where(mat[0, 1:] < 0)[0] + 1)[np.array(delta).argmin()]\n",
    "            elif self.method == \"Dantzig\":\n",
    "                col = mat[0, 1:].argmin() + 1\n",
    "            else:\n",
    "                col = np.where(mat[0, 1:] < 0)[0][0] + 1\n",
    "                \n",
    "            row = np.array([mat[i][0] / mat[i][col] if mat[i][col] > 0 else 0x7fffffff for i in \n",
    "                range(1, mat.shape[0])]).argmin() + 1\n",
    "            \n",
    "            if mat[row][col] <= 0:\n",
    "                return None  # the theta is ∞, the problem is unbounded\n",
    "            self._pivot(mat, B, row, col)\n",
    "        # print('loop:', self.count)\n",
    "        return mat[0][0] * (1 if self.max_mode else -1), {B[i]: mat[i, 0] for i in range(1, m) if B[i] < n}\n",
    "\n",
    "    def solve(self):\n",
    "        m, n = self.mat.shape  # m - 1 is the number slack variables we should add\n",
    "        temp, B = np.vstack([np.zeros((1, m - 1)), np.eye(m - 1)]\n",
    "                            ), list(range(n - 1, n + m - 1))  # add diagonal array\n",
    "        mat = self.mat = np.hstack([self.mat, temp])  # combine them!\n",
    "        if mat[1:, 0].min() < 0:  # is the initial basic solution feasible?\n",
    "            row = mat[1:, 0].argmin() + 1  # find the index of min b\n",
    "            # set first row value to zero, and store the previous value\n",
    "            temp, mat[0] = np.copy(mat[0]), 0\n",
    "            mat = np.hstack(\n",
    "                [mat, np.array([1] + [-1] * (m - 1)).reshape((-1, 1))])\n",
    "            self._pivot(mat, B, row, mat.shape[1] - 1)\n",
    "            if self._simplex(mat, B, m, n)[0] != 0:\n",
    "                return None  # the problem has no answer\n",
    "            if mat.shape[1] - 1 in B:  # if the x0 in B, we should pivot it.\n",
    "                self._pivot(mat, B, B.index(\n",
    "                    mat.shape[1] - 1), np.where(mat[0, 1:] != 0)[0][0] + 1)\n",
    "            # recover the first line\n",
    "            self.mat = np.vstack([temp, mat[1:, :-1]])\n",
    "            for i, x in enumerate(B[1:]):\n",
    "                self.mat[0] -= self.mat[0, x] * self.mat[i + 1]\n",
    "        return self._simplex(self.mat, B, m, n), self.log"
   ]
  },
  {
   "cell_type": "markdown",
   "metadata": {},
   "source": [
    "# Test: "
   ]
  },
  {
   "cell_type": "code",
   "execution_count": 13,
   "metadata": {},
   "outputs": [],
   "source": [
    "data = np.loadtxt(\"Data/data_agg.txt\", dtype=int)\n",
    "Z = list(data[0][1:])\n",
    "B = list(data[1:])"
   ]
  },
  {
   "cell_type": "code",
   "execution_count": 14,
   "metadata": {
    "scrolled": false
   },
   "outputs": [
    {
     "name": "stderr",
     "output_type": "stream",
     "text": [
      "C:\\Users\\ASUS\\Anaconda3\\lib\\site-packages\\ipykernel_launcher.py:31: RuntimeWarning: divide by zero encountered in double_scalars\n"
     ]
    },
    {
     "name": "stdout",
     "output_type": "stream",
     "text": [
      "loop: 95\n",
      "z: 91796798.0\n",
      "Wall time: 2.29 s\n"
     ]
    },
    {
     "data": {
      "image/png": "[encoded data removed]",
      "text/plain": [
       "<Figure size 432x288 with 1 Axes>"
      ]
     },
     "metadata": {
      "needs_background": "light"
     },
     "output_type": "display_data"
    }
   ],
   "source": [
    "%%time\n",
    "test = Simplex(Z, B)\n",
    "ptsd, log = test.solve()\n",
    "plt.plot(log)\n",
    "print('loop:',len(log))\n",
    "print(\"z:\",log[-1])\n",
    "# print(log)\n",
    "log_greedy = log"
   ]
  },
  {
   "cell_type": "code",
   "execution_count": 15,
   "metadata": {},
   "outputs": [
    {
     "name": "stdout",
     "output_type": "stream",
     "text": [
      "loop: 92\n",
      "z: 91796798.0\n",
      "Wall time: 578 ms\n"
     ]
    },
    {
     "data": {
      "image/png": "[encoded data removed]",
      "text/plain": [
       "<Figure size 432x288 with 1 Axes>"
      ]
     },
     "metadata": {
      "needs_background": "light"
     },
     "output_type": "display_data"
    }
   ],
   "source": [
    "%%time\n",
    "test = Simplex(Z, B, \"Dantzig\")\n",
    "ptsd, log = test.solve()\n",
    "plt.plot(log)\n",
    "print('loop:',len(log))\n",
    "print(\"z:\",log[-1])\n",
    "# print(log)"
   ]
  },
  {
   "cell_type": "code",
   "execution_count": 21,
   "metadata": {},
   "outputs": [
    {
     "name": "stderr",
     "output_type": "stream",
     "text": [
      "The PostScript backend does not support transparency; partially transparent artists will be rendered opaque.\n",
      "The PostScript backend does not support transparency; partially transparent artists will be rendered opaque.\n"
     ]
    },
    {
     "data": {
      "image/png": "[encoded data removed]",
      "text/plain": [
       "<Figure size 432x288 with 1 Axes>"
      ]
     },
     "metadata": {
      "needs_background": "light"
     },
     "output_type": "display_data"
    }
   ],
   "source": [
    "num = min(len(log_greedy), len(log))\n",
    "plt.plot(range(len(log)), log, color='green', label='Dantzig')\n",
    "plt.plot(range(len(log_greedy)), log_greedy, color='red', label='Greedy')\n",
    "plt.ylabel('target')\n",
    "plt.xlabel('iterations')\n",
    "plt.legend()\n",
    "# plt.savefig('out.png')\n",
    "plt.savefig('out_compare.eps',dpi=600,format='eps')"
   ]
  },
  {
   "cell_type": "code",
   "execution_count": null,
   "metadata": {},
   "outputs": [],
   "source": []
  }
 ],
 "metadata": {
  "kernelspec": {
   "display_name": "Python 3",
   "language": "python",
   "name": "python3"
  },
  "language_info": {
   "codemirror_mode": {
    "name": "ipython",
    "version": 3
   },
   "file_extension": ".py",
   "mimetype": "text/x-python",
   "name": "python",
   "nbconvert_exporter": "python",
   "pygments_lexer": "ipython3",
   "version": "3.7.4"
  },
  "varInspector": {
   "cols": {
    "lenName": 16,
    "lenType": 16,
    "lenVar": 40
   },
   "kernels_config": {
    "python": {
     "delete_cmd_postfix": "",
     "delete_cmd_prefix": "del ",
     "library": "var_list.py",
     "varRefreshCmd": "print(var_dic_list())"
    },
    "r": {
     "delete_cmd_postfix": ") ",
     "delete_cmd_prefix": "rm(",
     "library": "var_list.r",
     "varRefreshCmd": "cat(var_dic_list()) "
    }
   },
   "position": {
    "height": "378px",
    "left": "459px",
    "right": "20px",
    "top": "397px",
    "width": "479px"
   },
   "types_to_exclude": [
    "module",
    "function",
    "builtin_function_or_method",
    "instance",
    "_Feature"
   ],
   "window_display": false
  }
 },
 "nbformat": 4,
 "nbformat_minor": 2
}
