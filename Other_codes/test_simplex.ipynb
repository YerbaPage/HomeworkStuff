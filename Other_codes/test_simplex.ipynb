{
 "cells": [
  {
   "cell_type": "code",
   "execution_count": 2,
   "metadata": {},
   "outputs": [],
   "source": [
    "import time\n",
    "import numpy as np\n",
    "\n",
    "def printSol():\n",
    "    for i in range(cn - 1):\n",
    "        print(\"x%d=%.2f\" % (i, d[s.index(i)][-1] if i in s else 0))\n",
    "    print(\"objective is %.2f\" % (-d[-1][-1]))\n",
    "    print(\"loop: \",loop)"
   ]
  },
  {
   "cell_type": "code",
   "execution_count": 3,
   "metadata": {},
   "outputs": [
    {
     "name": "stdout",
     "output_type": "stream",
     "text": [
      "1 objective is -30.00\n",
      "2 objective is nan\n",
      "x0=0.00\n",
      "x1=0.00\n",
      "x2=0.00\n",
      "x3=nan\n",
      "objective is nan\n",
      "loop:  2\n",
      "Wall time: 10.9 ms\n"
     ]
    },
    {
     "name": "stderr",
     "output_type": "stream",
     "text": [
      "C:\\Users\\ASUS\\Anaconda3\\lib\\site-packages\\ipykernel_launcher.py:7: RuntimeWarning: divide by zero encountered in true_divide\n",
      "  import sys\n",
      "C:\\Users\\ASUS\\Anaconda3\\lib\\site-packages\\ipykernel_launcher.py:7: RuntimeWarning: invalid value encountered in true_divide\n",
      "  import sys\n",
      "C:\\Users\\ASUS\\Anaconda3\\lib\\site-packages\\ipykernel_launcher.py:9: RuntimeWarning: divide by zero encountered in true_divide\n",
      "  if __name__ == '__main__':\n",
      "C:\\Users\\ASUS\\Anaconda3\\lib\\site-packages\\ipykernel_launcher.py:9: RuntimeWarning: invalid value encountered in true_divide\n",
      "  if __name__ == '__main__':\n",
      "C:\\Users\\ASUS\\Anaconda3\\lib\\site-packages\\ipykernel_launcher.py:12: RuntimeWarning: invalid value encountered in multiply\n",
      "  if sys.path[0] == '':\n"
     ]
    }
   ],
   "source": [
    "%%time\n",
    "d = np.loadtxt(\"data.txt\", dtype=np.float)\n",
    "(bn,cn) = d.shape\n",
    "s = list(range(cn-bn,cn-1)) #基变量列表\n",
    "loop = 0\n",
    "while max(d[-1][:-1]) > 0 and loop<100:\n",
    "    jnum = np.argmax(d[-1][:-1])  # 转入下标\n",
    "    inum = np.argmin(d[:-1, -1]/d[:-1, jnum])  # 转出下标\n",
    "    s[inum] = jnum  # 更新基变量\n",
    "    d[inum] /= d[inum][jnum]\n",
    "    for i in range(bn):\n",
    "         if i != inum:\n",
    "            d[i] -= d[i][jnum] * d[inum]\n",
    "    loop += 1\n",
    "    print(loop, \"objective is %.2f\" % (-d[-1][-1]))\n",
    "printSol()"
   ]
  },
  {
   "cell_type": "code",
   "execution_count": 1,
   "metadata": {},
   "outputs": [
    {
     "name": "stdout",
     "output_type": "stream",
     "text": [
      "Hello, Erin! hb\n"
     ]
    }
   ],
   "source": [
    "print('Hello, Erin! hb')"
   ]
  },
  {
   "cell_type": "code",
   "execution_count": null,
   "metadata": {},
   "outputs": [],
   "source": []
  }
 ],
 "metadata": {
  "kernelspec": {
   "display_name": "Python 3",
   "language": "python",
   "name": "python3"
  },
  "language_info": {
   "codemirror_mode": {
    "name": "ipython",
    "version": 3
   },
   "file_extension": ".py",
   "mimetype": "text/x-python",
   "name": "python",
   "nbconvert_exporter": "python",
   "pygments_lexer": "ipython3",
   "version": "3.7.4"
  },
  "varInspector": {
   "cols": {
    "lenName": 16,
    "lenType": 16,
    "lenVar": 40
   },
   "kernels_config": {
    "python": {
     "delete_cmd_postfix": "",
     "delete_cmd_prefix": "del ",
     "library": "var_list.py",
     "varRefreshCmd": "print(var_dic_list())"
    },
    "r": {
     "delete_cmd_postfix": ") ",
     "delete_cmd_prefix": "rm(",
     "library": "var_list.r",
     "varRefreshCmd": "cat(var_dic_list()) "
    }
   },
   "types_to_exclude": [
    "module",
    "function",
    "builtin_function_or_method",
    "instance",
    "_Feature"
   ],
   "window_display": false
  }
 },
 "nbformat": 4,
 "nbformat_minor": 2
}
