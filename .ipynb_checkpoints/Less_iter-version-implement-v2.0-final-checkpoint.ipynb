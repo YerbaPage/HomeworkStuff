{
 "cells": [
  {
   "cell_type": "markdown",
   "metadata": {},
   "source": [
    "# Codes"
   ]
  },
  {
   "cell_type": "code",
   "execution_count": 1,
   "metadata": {},
   "outputs": [],
   "source": [
    "import numpy as np\n",
    "\n",
    "class Simplex(object):\n",
    "    def __init__(self, obj, b_matrix=[], maxloop=1000, max_mode=False):\n",
    "        self.mat, self.max_mode = np.array(\n",
    "            [[0] + obj]) * (-1 if max_mode else 1), max_mode\n",
    "        if b_matrix != []:\n",
    "            self.mat = np.vstack([self.mat, b_matrix])\n",
    "        self.count = 0\n",
    "        self.maxloop = maxloop\n",
    "\n",
    "    def _pivot(self, mat, B, row, col):\n",
    "        mat[row] /= mat[row][col]\n",
    "        ids = np.arange(mat.shape[0]) != row\n",
    "        # for each i!= row do: mat[i]= mat[i] - mat[row] * mat[i][col]\n",
    "        mat[ids] -= mat[row] * mat[ids, col:col + 1]\n",
    "        B[row] = col\n",
    "        self.count += 1\n",
    "        # print(self.count)\n",
    "\n",
    "    def _simplex(self, mat, B, m, n):\n",
    "        while mat[0, 1:].min() < 0 and self.count < self.maxloop:\n",
    "            # use Bland's method to avoid degeneracy\n",
    "            # col = np.where(mat[0, 1:] < 0)[0][0] + 1\n",
    "            # use Dantzig's method, may encounter degeneracy\n",
    "            delta = []\n",
    "            for col in (np.where(mat[0, 1:] < 0)[0] + 1):\n",
    "                row = np.array([mat[i][0] / mat[i][col] if mat[i][col] > 0 else 0x7fffffff for i in \n",
    "                                range(1, mat.shape[0])]).argmax() + 1\n",
    "                delta.append(-mat[0][col]/mat[row][col]*mat[row][0])\n",
    "                \n",
    "            col = (np.where(mat[0, 1:] < 0)[0] + 1)[np.array(delta).argmin()]\n",
    "            row = np.array([mat[i][0] / mat[i][col] if mat[i][col] > 0 else 0x7fffffff for i in \n",
    "                range(1, mat.shape[0])]).argmin() + 1\n",
    "            if mat[row][col] <= 0:\n",
    "                return None  # the theta is ∞, the problem is unbounded\n",
    "            self._pivot(mat, B, row, col)\n",
    "        print('loop:', self.count)\n",
    "        return mat[0][0] * (1 if self.max_mode else -1), {B[i]: mat[i, 0] for i in range(1, m) if B[i] < n}\n",
    "\n",
    "    def solve(self):\n",
    "        m, n = self.mat.shape  # m - 1 is the number slack variables we should add\n",
    "        temp, B = np.vstack([np.zeros((1, m - 1)), np.eye(m - 1)]\n",
    "                            ), list(range(n - 1, n + m - 1))  # add diagonal array\n",
    "        mat = self.mat = np.hstack([self.mat, temp])  # combine them!\n",
    "        if mat[1:, 0].min() < 0:  # is the initial basic solution feasible?\n",
    "            row = mat[1:, 0].argmin() + 1  # find the index of min b\n",
    "            # set first row value to zero, and store the previous value\n",
    "            temp, mat[0] = np.copy(mat[0]), 0\n",
    "            mat = np.hstack(\n",
    "                [mat, np.array([1] + [-1] * (m - 1)).reshape((-1, 1))])\n",
    "            self._pivot(mat, B, row, mat.shape[1] - 1)\n",
    "            if self._simplex(mat, B, m, n)[0] != 0:\n",
    "                return None  # the problem has no answer\n",
    "            if mat.shape[1] - 1 in B:  # if the x0 in B, we should pivot it.\n",
    "                self._pivot(mat, B, B.index(\n",
    "                    mat.shape[1] - 1), np.where(mat[0, 1:] != 0)[0][0] + 1)\n",
    "            # recover the first line\n",
    "            self.mat = np.vstack([temp, mat[1:, :-1]])\n",
    "            for i, x in enumerate(B[1:]):\n",
    "                self.mat[0] -= self.mat[0, x] * self.mat[i + 1]\n",
    "        return self._simplex(self.mat, B, m, n)"
   ]
  },
  {
   "cell_type": "markdown",
   "metadata": {},
   "source": [
    "# Test: AGG\n"
   ]
  },
  {
   "cell_type": "code",
   "execution_count": 2,
   "metadata": {},
   "outputs": [
    {
     "name": "stderr",
     "output_type": "stream",
     "text": [
      "C:\\Users\\ASUS\\Anaconda3\\lib\\site-packages\\ipykernel_launcher.py:30: RuntimeWarning: divide by zero encountered in double_scalars\n"
     ]
    },
    {
     "name": "stdout",
     "output_type": "stream",
     "text": [
      "loop: 95\n",
      "(-91796798.0, {453: 56200.0, 373: 98200.0, 362: 245714.0, 435: 342923.0, 485: 1201600.0, 421: 2357353.0, 503: 78000.0, 385: 155200.0, 513: 180000.0, 427: 234018.0, 523: 1391199.0, 409: 3567262.0, 538: 450000.0, 431: 891592.0, 359: 56200.0, 393: 143109.0, 361: 0.0, 464: 377143.0, 473: 142824.0, 397: 275066.0, 481: 16000.0, 439: 19101.0, 363: 1201600.0, 441: 2516184.0, 495: 34200.0, 443: 50104.0, 365: 78000.0, 445: 220013.0, 367: 180000.0, 447: 282021.0, 369: 1391199.0, 449: 4291989.0, 371: 450000.0, 451: 841068.0, 454: 42000.0, 433: 331117.0, 375: 377143.0, 465: 114285.0, 377: 142824.0, 437: 469639.0, 379: 16000.0, 482: 4400.0, 381: 1984799.0, 487: 684800.0, 383: 34200.0, 496: 20000.0, 504: 77200.0, 505: 59200.0, 387: 258000.0, 515: 78000.0, 389: 2414999.0, 525: 1220800.0, 391: 706000.0, 540: 260000.0, 455: 134000.0, 456: 134000.0, 395: 491428.0, 466: 1143.0, 474: 145882.0, 475: 197647.0, 399: 20400.0, 483: 5000.0, 401: 2235691.0, 488: 572000.0, 403: 54200.0, 497: 14000.0, 405: 114510.0, 506: 59200.0, 407: 186015.0, 516: 78000.0, 524: 1023800.0, 526: 1162799.0, 411: 847929.0, 541: 260000.0, 413: 237113.0, 457: 134000.0, 415: 341780.0, 467: 1143.0, 417: 285565.0, 476: 216470.0, 419: 13701.0, 484: 5400.0, 486: 783199.0, 489: 576000.0, 423: 44104.0, 498: 12000.0, 425: 148413.0, 507: 71600.0, 514: 78000.0, 517: 78000.0, 429: 2949191.0, 527: 1342798.0, 539: 256000.0, 542: 260000.0})\n",
      "[[9.1796798e+07 0.0000000e+00 0.0000000e+00 ... 0.0000000e+00\n",
      "  0.0000000e+00 0.0000000e+00]\n",
      " [2.3995000e+04 1.0000000e+00 0.0000000e+00 ... 0.0000000e+00\n",
      "  0.0000000e+00 0.0000000e+00]\n",
      " [2.1330000e+03 0.0000000e+00 1.0000000e+00 ... 0.0000000e+00\n",
      "  0.0000000e+00 0.0000000e+00]\n",
      " ...\n",
      " [1.4143980e+06 0.0000000e+00 0.0000000e+00 ... 1.0000000e+00\n",
      "  0.0000000e+00 0.0000000e+00]\n",
      " [3.3800000e+05 0.0000000e+00 0.0000000e+00 ... 0.0000000e+00\n",
      "  1.0000000e+00 0.0000000e+00]\n",
      " [5.4000000e+03 0.0000000e+00 0.0000000e+00 ... 0.0000000e+00\n",
      "  0.0000000e+00 1.0000000e+00]]\n",
      "Wall time: 2.5 s\n"
     ]
    }
   ],
   "source": [
    "%%time\n",
    "data = np.loadtxt(\"data_b.txt\", dtype=int)\n",
    "Z = list(data[0][1:])\n",
    "B = list(data[1:])\n",
    "test = Simplex(Z, B)\n",
    "print(test.solve())\n",
    "print(test.mat)"
   ]
  }
 ],
 "metadata": {
  "kernelspec": {
   "display_name": "Python 3",
   "language": "python",
   "name": "python3"
  },
  "language_info": {
   "codemirror_mode": {
    "name": "ipython",
    "version": 3
   },
   "file_extension": ".py",
   "mimetype": "text/x-python",
   "name": "python",
   "nbconvert_exporter": "python",
   "pygments_lexer": "ipython3",
   "version": "3.7.4"
  },
  "varInspector": {
   "cols": {
    "lenName": 16,
    "lenType": 16,
    "lenVar": 40
   },
   "kernels_config": {
    "python": {
     "delete_cmd_postfix": "",
     "delete_cmd_prefix": "del ",
     "library": "var_list.py",
     "varRefreshCmd": "print(var_dic_list())"
    },
    "r": {
     "delete_cmd_postfix": ") ",
     "delete_cmd_prefix": "rm(",
     "library": "var_list.r",
     "varRefreshCmd": "cat(var_dic_list()) "
    }
   },
   "position": {
    "height": "378px",
    "left": "459px",
    "right": "20px",
    "top": "397px",
    "width": "479px"
   },
   "types_to_exclude": [
    "module",
    "function",
    "builtin_function_or_method",
    "instance",
    "_Feature"
   ],
   "window_display": false
  }
 },
 "nbformat": 4,
 "nbformat_minor": 2
}
