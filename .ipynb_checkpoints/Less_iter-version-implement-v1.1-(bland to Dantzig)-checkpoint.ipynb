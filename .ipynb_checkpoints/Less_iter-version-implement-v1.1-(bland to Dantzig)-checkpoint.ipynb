{
 "cells": [
  {
   "cell_type": "markdown",
   "metadata": {},
   "source": [
    "# Codes"
   ]
  },
  {
   "cell_type": "code",
   "execution_count": 9,
   "metadata": {},
   "outputs": [],
   "source": [
    "import numpy as np\n",
    "\n",
    "\n",
    "class Simplex(object):\n",
    "    def __init__(self, obj, b_matrix=[], maxloop=1000, max_mode=False):\n",
    "        self.mat, self.max_mode = np.array(\n",
    "            [[0] + obj]) * (-1 if max_mode else 1), max_mode\n",
    "        if b_matrix != []:\n",
    "            self.mat = np.vstack([self.mat, b_matrix])\n",
    "        self.count = 0\n",
    "        self.maxloop = maxloop\n",
    "        self.log = []\n",
    "\n",
    "    def _pivot(self, mat, B, row, col):\n",
    "        mat[row] /= mat[row][col]\n",
    "        ids = np.arange(mat.shape[0]) != row\n",
    "        # for each i!= row do: mat[i]= mat[i] - mat[row] * mat[i][col]\n",
    "        mat[ids] -= mat[row] * mat[ids, col:col + 1]\n",
    "        B[row] = col\n",
    "        self.count += 1\n",
    "        self.log.append(mat[0][0])\n",
    "        # print(self.count)\n",
    "\n",
    "    def _simplex(self, mat, B, m, n):\n",
    "        while mat[0, 1:].min() < 0 and self.count < self.maxloop:\n",
    "            # use Bland's method to avoid degeneracy\n",
    "            # col = np.where(mat[0, 1:] < 0)[0][0] + 1\n",
    "            # use normal simplex, may encounter degeneracy\n",
    "            col = mat[0, 1:].argmin() + 1\n",
    "            row = np.array([mat[i][0] / mat[i][col] if mat[i][col] > 0 else 0x7fffffff for i in\n",
    "                            range(1, mat.shape[0])]).argmin() + 1  # find the theta index\n",
    "            if mat[row][col] <= 0:\n",
    "                return None  # the theta is ∞, the problem is unbounded\n",
    "            self._pivot(mat, B, row, col)\n",
    "        print('loop:', self.count)\n",
    "        return mat[0][0] * (1 if self.max_mode else -1), {B[i]: mat[i, 0] for i in range(1, m) if B[i] < n}\n",
    "\n",
    "    def solve(self):\n",
    "        m, n = self.mat.shape  # m - 1 is the number slack variables we should add\n",
    "        temp, B = np.vstack([np.zeros((1, m - 1)), np.eye(m - 1)]\n",
    "                            ), list(range(n - 1, n + m - 1))  # add diagonal array\n",
    "        mat = self.mat = np.hstack([self.mat, temp])  # combine them!\n",
    "        if mat[1:, 0].min() < 0:  # is the initial basic solution feasible?\n",
    "            row = mat[1:, 0].argmin() + 1  # find the index of min b\n",
    "            # set first row value to zero, and store the previous value\n",
    "            temp, mat[0] = np.copy(mat[0]), 0\n",
    "            mat = np.hstack(\n",
    "                [mat, np.array([1] + [-1] * (m - 1)).reshape((-1, 1))])\n",
    "            self._pivot(mat, B, row, mat.shape[1] - 1)\n",
    "            if self._simplex(mat, B, m, n)[0] != 0:\n",
    "                return None  # the problem has no answer\n",
    "            if mat.shape[1] - 1 in B:  # if the x0 in B, we should pivot it.\n",
    "                self._pivot(mat, B, B.index(\n",
    "                    mat.shape[1] - 1), np.where(mat[0, 1:] != 0)[0][0] + 1)\n",
    "            # recover the first line\n",
    "            self.mat = np.vstack([temp, mat[1:, :-1]])\n",
    "            for i, x in enumerate(B[1:]):\n",
    "                self.mat[0] -= self.mat[0, x] * self.mat[i + 1]\n",
    "        return self._simplex(self.mat, B, m, n), self.log"
   ]
  },
  {
   "cell_type": "markdown",
   "metadata": {
    "heading_collapsed": true
   },
   "source": [
    "# Test: easy"
   ]
  },
  {
   "cell_type": "code",
   "execution_count": 2,
   "metadata": {
    "hidden": true
   },
   "outputs": [
    {
     "name": "stdout",
     "output_type": "stream",
     "text": [
      "loop: 1\n",
      "(-2.0, {2: 1.0})\n",
      "[[ 2.   0.   0.   1.   0. ]\n",
      " [ 1.   0.5  1.   0.5  0. ]\n",
      " [ 1.   1.5  0.  -0.5  1. ]]\n"
     ]
    }
   ],
   "source": [
    "mt_b = [[2,1,2],[2,2,1]]\n",
    "t = Simplex([-1, -2], mt_b)\n",
    "print(t.solve())\n",
    "print(t.mat)"
   ]
  },
  {
   "cell_type": "markdown",
   "metadata": {},
   "source": [
    "# Test: harder"
   ]
  },
  {
   "cell_type": "code",
   "execution_count": 12,
   "metadata": {
    "scrolled": false
   },
   "outputs": [
    {
     "name": "stdout",
     "output_type": "stream",
     "text": [
      "loop: 92\n",
      "[0.0, 0.0, 1017813.0, 1017813.0, 1392000.0, 1752800.0, 2142800.0, 2542400.0, 2542400.0, 2992520.0, 7255592.0, 7255592.0, 7255592.0, 8050760.0, 8248760.0, 8384192.0, 8384192.0, 8384192.0, 10126392.0, 10746392.0, 10746392.0, 10746392.0, 15270122.0, 15270122.0, 22060682.0, 23014521.0, 23278682.0, 23684682.0, 24549518.0, 25669406.0, 27436682.0, 30636662.0, 32259654.0, 33166742.0, 34721358.0, 35057358.0, 35088219.0, 40424688.0, 43908688.0, 47258688.0, 47287263.0, 52699013.0, 52699013.0, 52699013.0, 53089013.0, 53198463.0, 53324948.0, 53324948.0, 53475013.0, 53771013.0, 53771013.0, 53771013.0, 54520938.0, 54670923.0, 54671013.0, 54820908.0, 55061013.0, 55061013.0, 55061013.0, 56796645.0, 58597997.0, 59867413.0, 60104213.0, 60390613.0, 60702613.0, 61014613.0, 61326613.0, 61626058.0, 63676210.0, 65730610.0, 67446610.0, 69174610.0, 69174610.0, 69174610.0, 69380221.0, 73348207.0, 74722831.0, 74722831.0, 76419607.0, 80082007.0, 83570404.0, 87598798.0, 87598798.0, 87598798.0, 87953011.0, 88602022.0, 88948798.0, 89533594.0, 89716798.0, 90496798.0, 91276798.0, 91796798.0]\n",
      "Wall time: 718 ms\n"
     ]
    }
   ],
   "source": [
    "%%time\n",
    "data = np.loadtxt(\"data_b.txt\", dtype=int)\n",
    "Z = list(data[0][1:])\n",
    "b = list(data[1:])\n",
    "test = Simplex(Z, b)\n",
    "aasd, log = test.solve()\n",
    "print(log)\n",
    "# print(test.solve())\n",
    "# print(test.mat)"
   ]
  },
  {
   "cell_type": "code",
   "execution_count": 17,
   "metadata": {},
   "outputs": [
    {
     "name": "stdout",
     "output_type": "stream",
     "text": [
      "loop: 92\n",
      "Wall time: 730 ms\n"
     ]
    }
   ],
   "source": [
    "%%time\n",
    "data = np.loadtxt(\"data_b.txt\", dtype=int)\n",
    "Z = list(data[0][1:])\n",
    "B = list(data[1:])\n",
    "test = Simplex(Z, B)\n",
    "ptsd, log = test.solve()\n",
    "# print(test.mat)\n",
    "# print(mat)\n",
    "\n",
    "import matplotlib.pyplot as plt\n",
    "plt.plot(log)\n",
    "print(log[-1])"
   ]
  },
  {
   "cell_type": "code",
   "execution_count": 19,
   "metadata": {},
   "outputs": [
    {
     "name": "stdout",
     "output_type": "stream",
     "text": [
      "loop: 91\n",
      "loop: 375\n",
      "1469483.3751484097\n",
      "Wall time: 233 ms\n"
     ]
    },
    {
     "data": {
      "image/png": "[encoded data removed]",
      "text/plain": [
       "<Figure size 432x288 with 1 Axes>"
      ]
     },
     "metadata": {
      "needs_background": "light"
     },
     "output_type": "display_data"
    }
   ],
   "source": [
    "%%time\n",
    "data = np.loadtxt(\"data_isreal.txt\", dtype=int)\n",
    "Z = list(data[0][1:])\n",
    "B = list(data[1:])\n",
    "test = Simplex(Z, B)\n",
    "ptsd, log = test.solve()\n",
    "# print(test.mat)\n",
    "# print(mat)\n",
    "\n",
    "import matplotlib.pyplot as plt\n",
    "plt.plot(log)\n",
    "print(log[-1])"
   ]
  },
  {
   "cell_type": "code",
   "execution_count": null,
   "metadata": {},
   "outputs": [],
   "source": []
  }
 ],
 "metadata": {
  "kernelspec": {
   "display_name": "Python 3",
   "language": "python",
   "name": "python3"
  },
  "language_info": {
   "codemirror_mode": {
    "name": "ipython",
    "version": 3
   },
   "file_extension": ".py",
   "mimetype": "text/x-python",
   "name": "python",
   "nbconvert_exporter": "python",
   "pygments_lexer": "ipython3",
   "version": "3.7.4"
  },
  "varInspector": {
   "cols": {
    "lenName": 16,
    "lenType": 16,
    "lenVar": 40
   },
   "kernels_config": {
    "python": {
     "delete_cmd_postfix": "",
     "delete_cmd_prefix": "del ",
     "library": "var_list.py",
     "varRefreshCmd": "print(var_dic_list())"
    },
    "r": {
     "delete_cmd_postfix": ") ",
     "delete_cmd_prefix": "rm(",
     "library": "var_list.r",
     "varRefreshCmd": "cat(var_dic_list()) "
    }
   },
   "types_to_exclude": [
    "module",
    "function",
    "builtin_function_or_method",
    "instance",
    "_Feature"
   ],
   "window_display": false
  }
 },
 "nbformat": 4,
 "nbformat_minor": 2
}
